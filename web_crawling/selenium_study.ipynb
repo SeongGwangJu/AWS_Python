{
 "cells": [
  {
   "cell_type": "code",
   "execution_count": 1,
   "metadata": {},
   "outputs": [],
   "source": [
    "# 크롬드라이버\n",
    "from selenium import webdriver\n",
    "from selenium.webdriver.common.keys import Keys\n",
    "from webdriver_manager.chrome import ChromeDriverManager\n",
    "import time\n",
    "\n",
    "driver = webdriver.Chrome(executable_path=\"chromedriver\")\n",
    "# driver = webdriver.Chrome(ChromeDriverManager().install())\n",
    "# driver = webdriver.Chrome()\n",
    "driver.get(\"https://naver.com\")\n",
    "\n",
    "# time.sleep(3)\n",
    "\n",
    "# searchInput = driver.find_element_by_css_selector(\"#textarea.gLFyf\")\n",
    "# searchInput\n"
   ]
  },
  {
   "cell_type": "markdown",
   "metadata": {},
   "source": []
  }
 ],
 "metadata": {
  "kernelspec": {
   "display_name": "base",
   "language": "python",
   "name": "python3"
  },
  "language_info": {
   "codemirror_mode": {
    "name": "ipython",
    "version": 3
   },
   "file_extension": ".py",
   "mimetype": "text/x-python",
   "name": "python",
   "nbconvert_exporter": "python",
   "pygments_lexer": "ipython3",
   "version": "3.11.4"
  },
  "orig_nbformat": 4
 },
 "nbformat": 4,
 "nbformat_minor": 2
}
