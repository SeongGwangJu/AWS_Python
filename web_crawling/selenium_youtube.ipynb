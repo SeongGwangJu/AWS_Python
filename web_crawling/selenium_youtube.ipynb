{
 "cells": [
  {
   "cell_type": "code",
   "execution_count": 1,
   "metadata": {},
   "outputs": [
    {
     "ename": "NoSuchWindowException",
     "evalue": "Message: no such window: target window already closed\nfrom unknown error: web view not found\n  (Session info: chrome=117.0.5938.89)\nStacktrace:\n\tGetHandleVerifier [0x00007FF78C1B78A2+54818]\n\t(No symbol) [0x00007FF78C126AD2]\n\t(No symbol) [0x00007FF78BFDDA3B]\n\t(No symbol) [0x00007FF78BFBDEE8]\n\t(No symbol) [0x00007FF78C043237]\n\t(No symbol) [0x00007FF78C056C6F]\n\t(No symbol) [0x00007FF78C03E883]\n\t(No symbol) [0x00007FF78C013691]\n\t(No symbol) [0x00007FF78C0148D4]\n\tGetHandleVerifier [0x00007FF78C51B9A2+3610402]\n\tGetHandleVerifier [0x00007FF78C571870+3962352]\n\tGetHandleVerifier [0x00007FF78C569D5F+3930847]\n\tGetHandleVerifier [0x00007FF78C253656+693206]\n\t(No symbol) [0x00007FF78C131638]\n\t(No symbol) [0x00007FF78C12D944]\n\t(No symbol) [0x00007FF78C12DA72]\n\t(No symbol) [0x00007FF78C11E123]\n\tBaseThreadInitThunk [0x00007FFA3420257D+29]\n\tRtlUserThreadStart [0x00007FFA35A0AA68+40]\n",
     "output_type": "error",
     "traceback": [
      "\u001b[1;31m---------------------------------------------------------------------------\u001b[0m",
      "\u001b[1;31mNoSuchWindowException\u001b[0m                     Traceback (most recent call last)",
      "\u001b[1;32mc:\\aws\\Python\\basic\\web_crawling\\selenium_youtube.ipynb 셀 1\u001b[0m line \u001b[0;36m3\n\u001b[0;32m     <a href='vscode-notebook-cell:/c%3A/aws/Python/basic/web_crawling/selenium_youtube.ipynb#W0sZmlsZQ%3D%3D?line=31'>32</a>\u001b[0m searchList \u001b[39m=\u001b[39m [\u001b[39m\"\u001b[39m\u001b[39m아이폰15\u001b[39m\u001b[39m\"\u001b[39m, \u001b[39m\"\u001b[39m\u001b[39m손흥민\u001b[39m\u001b[39m\"\u001b[39m, \u001b[39m\"\u001b[39m\u001b[39mreact\u001b[39m\u001b[39m\"\u001b[39m]\n\u001b[0;32m     <a href='vscode-notebook-cell:/c%3A/aws/Python/basic/web_crawling/selenium_youtube.ipynb#W0sZmlsZQ%3D%3D?line=32'>33</a>\u001b[0m \u001b[39m# searchInput = driver.find_element(by=\"id\", value=\"query\")\u001b[39;00m\n\u001b[1;32m---> <a href='vscode-notebook-cell:/c%3A/aws/Python/basic/web_crawling/selenium_youtube.ipynb#W0sZmlsZQ%3D%3D?line=33'>34</a>\u001b[0m searchInput \u001b[39m=\u001b[39m driver\u001b[39m.\u001b[39mfind_element(by\u001b[39m=\u001b[39mBy\u001b[39m.\u001b[39mCSS_SELECTOR, value\u001b[39m=\u001b[39m\u001b[39m\"\u001b[39m\u001b[39minput[name=\u001b[39m\u001b[39m'\u001b[39m\u001b[39msearch_query\u001b[39m\u001b[39m'\u001b[39m\u001b[39m]\u001b[39m\u001b[39m\"\u001b[39m)\n\u001b[0;32m     <a href='vscode-notebook-cell:/c%3A/aws/Python/basic/web_crawling/selenium_youtube.ipynb#W0sZmlsZQ%3D%3D?line=34'>35</a>\u001b[0m tubeCrawlingResult \u001b[39m=\u001b[39m []\n\u001b[0;32m     <a href='vscode-notebook-cell:/c%3A/aws/Python/basic/web_crawling/selenium_youtube.ipynb#W0sZmlsZQ%3D%3D?line=36'>37</a>\u001b[0m \u001b[39m#받아온값을 searchInput에 보내고 Enter(Return)\u001b[39;00m\n",
      "File \u001b[1;32mc:\\Users\\jusg0\\anaconda3_2\\Lib\\site-packages\\selenium\\webdriver\\remote\\webdriver.py:831\u001b[0m, in \u001b[0;36mWebDriver.find_element\u001b[1;34m(self, by, value)\u001b[0m\n\u001b[0;32m    828\u001b[0m     by \u001b[39m=\u001b[39m By\u001b[39m.\u001b[39mCSS_SELECTOR\n\u001b[0;32m    829\u001b[0m     value \u001b[39m=\u001b[39m \u001b[39mf\u001b[39m\u001b[39m'\u001b[39m\u001b[39m[name=\u001b[39m\u001b[39m\"\u001b[39m\u001b[39m{\u001b[39;00mvalue\u001b[39m}\u001b[39;00m\u001b[39m\"\u001b[39m\u001b[39m]\u001b[39m\u001b[39m'\u001b[39m\n\u001b[1;32m--> 831\u001b[0m \u001b[39mreturn\u001b[39;00m \u001b[39mself\u001b[39m\u001b[39m.\u001b[39mexecute(Command\u001b[39m.\u001b[39mFIND_ELEMENT, {\u001b[39m\"\u001b[39m\u001b[39musing\u001b[39m\u001b[39m\"\u001b[39m: by, \u001b[39m\"\u001b[39m\u001b[39mvalue\u001b[39m\u001b[39m\"\u001b[39m: value})[\u001b[39m\"\u001b[39m\u001b[39mvalue\u001b[39m\u001b[39m\"\u001b[39m]\n",
      "File \u001b[1;32mc:\\Users\\jusg0\\anaconda3_2\\Lib\\site-packages\\selenium\\webdriver\\remote\\webdriver.py:440\u001b[0m, in \u001b[0;36mWebDriver.execute\u001b[1;34m(self, driver_command, params)\u001b[0m\n\u001b[0;32m    438\u001b[0m response \u001b[39m=\u001b[39m \u001b[39mself\u001b[39m\u001b[39m.\u001b[39mcommand_executor\u001b[39m.\u001b[39mexecute(driver_command, params)\n\u001b[0;32m    439\u001b[0m \u001b[39mif\u001b[39;00m response:\n\u001b[1;32m--> 440\u001b[0m     \u001b[39mself\u001b[39m\u001b[39m.\u001b[39merror_handler\u001b[39m.\u001b[39mcheck_response(response)\n\u001b[0;32m    441\u001b[0m     response[\u001b[39m\"\u001b[39m\u001b[39mvalue\u001b[39m\u001b[39m\"\u001b[39m] \u001b[39m=\u001b[39m \u001b[39mself\u001b[39m\u001b[39m.\u001b[39m_unwrap_value(response\u001b[39m.\u001b[39mget(\u001b[39m\"\u001b[39m\u001b[39mvalue\u001b[39m\u001b[39m\"\u001b[39m, \u001b[39mNone\u001b[39;00m))\n\u001b[0;32m    442\u001b[0m     \u001b[39mreturn\u001b[39;00m response\n",
      "File \u001b[1;32mc:\\Users\\jusg0\\anaconda3_2\\Lib\\site-packages\\selenium\\webdriver\\remote\\errorhandler.py:245\u001b[0m, in \u001b[0;36mErrorHandler.check_response\u001b[1;34m(self, response)\u001b[0m\n\u001b[0;32m    243\u001b[0m         alert_text \u001b[39m=\u001b[39m value[\u001b[39m\"\u001b[39m\u001b[39malert\u001b[39m\u001b[39m\"\u001b[39m]\u001b[39m.\u001b[39mget(\u001b[39m\"\u001b[39m\u001b[39mtext\u001b[39m\u001b[39m\"\u001b[39m)\n\u001b[0;32m    244\u001b[0m     \u001b[39mraise\u001b[39;00m exception_class(message, screen, stacktrace, alert_text)  \u001b[39m# type: ignore[call-arg]  # mypy is not smart enough here\u001b[39;00m\n\u001b[1;32m--> 245\u001b[0m \u001b[39mraise\u001b[39;00m exception_class(message, screen, stacktrace)\n",
      "\u001b[1;31mNoSuchWindowException\u001b[0m: Message: no such window: target window already closed\nfrom unknown error: web view not found\n  (Session info: chrome=117.0.5938.89)\nStacktrace:\n\tGetHandleVerifier [0x00007FF78C1B78A2+54818]\n\t(No symbol) [0x00007FF78C126AD2]\n\t(No symbol) [0x00007FF78BFDDA3B]\n\t(No symbol) [0x00007FF78BFBDEE8]\n\t(No symbol) [0x00007FF78C043237]\n\t(No symbol) [0x00007FF78C056C6F]\n\t(No symbol) [0x00007FF78C03E883]\n\t(No symbol) [0x00007FF78C013691]\n\t(No symbol) [0x00007FF78C0148D4]\n\tGetHandleVerifier [0x00007FF78C51B9A2+3610402]\n\tGetHandleVerifier [0x00007FF78C571870+3962352]\n\tGetHandleVerifier [0x00007FF78C569D5F+3930847]\n\tGetHandleVerifier [0x00007FF78C253656+693206]\n\t(No symbol) [0x00007FF78C131638]\n\t(No symbol) [0x00007FF78C12D944]\n\t(No symbol) [0x00007FF78C12DA72]\n\t(No symbol) [0x00007FF78C11E123]\n\tBaseThreadInitThunk [0x00007FFA3420257D+29]\n\tRtlUserThreadStart [0x00007FFA35A0AA68+40]\n"
     ]
    }
   ],
   "source": [
    "# 검색어 [\"아이폰15\", \"손흥민\", \"react\"]\n",
    "#출력 예시\n",
    "# [\n",
    "#     {\n",
    "#         \"searchValue: \"아이폰15\",\n",
    "#         \"data_list\": [\n",
    "#             {\n",
    "#                 \"title\": \"\",\n",
    "#                 \"hits\":10,\n",
    "#                 \"creator\" :\"\",\n",
    "#                 decsription :\"\",\n",
    "#                 \"url\":\"\",\n",
    "#             }\n",
    "#         ]\n",
    "#     }\n",
    "# ]\n",
    "# 크롬드라이버\n",
    "from selenium import webdriver\n",
    "from selenium.webdriver.common.keys import Keys\n",
    "from webdriver_manager.chrome import ChromeDriverManager\n",
    "from selenium.webdriver.common.by import By\n",
    "import time\n",
    "import pandas as pd\n",
    "from selenium.common.exceptions import NoSuchElementException\n",
    "\n",
    "driver = webdriver.Chrome(executable_path=\"chromedriver\")\n",
    "driver.get(\"https://www.youtube.com/\")\n",
    "\n",
    "#브라우저 뜨기 전에 코드가 실행되면 안되니까\n",
    "time.sleep(0.5)\n",
    "\n",
    "searchList = [\"아이폰15\", \"손흥민\", \"react\"]\n",
    "# searchInput = driver.find_element(by=\"id\", value=\"query\")\n",
    "searchInput = driver.find_element(by=By.CSS_SELECTOR, value=\"input[name='search_query']\")\n",
    "tubeCrawlingResult = []\n",
    "\n",
    "#받아온값을 searchInput에 보내고 Enter(Return)\n",
    "for i in range(len(searchList)):\n",
    "    print(\"##############검색어 : \" + searchList[i] + \"##############\")\n",
    "\n",
    "    searchInput.clear()\n",
    "    searchInput.send_keys(searchList[i])\n",
    "    searchInput.send_keys(Keys.RETURN)\n",
    "    time.sleep(1)\n",
    "\n",
    "    items = driver.find_elements(by=By.CSS_SELECTOR, value=\".style-scope ytd-video-renderer\")\n",
    "    content = []\n",
    "\n",
    "    for index, item in enumerate(items):\n",
    "        if index >= 10:\n",
    "            break\n",
    "        titleElement = item.find_element(by=By.CSS_SELECTOR, value=\".title-and-badge .yt-simple-endpoint\")\n",
    "        title = titleElement.text\n",
    "\n",
    "        hitsElement = item.find_element(by=By.ID, value=\"metadata-line\").find_element(by=By.CSS_SELECTOR, value=\".inline-metadata-item\")\n",
    "        hits = hitsElement.text\n",
    "\n",
    "        creatorElement = item.find_element(by=By.ID, value=\"channel-info\").find_element(by=By.CSS_SELECTOR, value=\".yt-simple-endpoint\")\n",
    "        creator = creatorElement.text\n",
    "\n",
    "        try:\n",
    "            descriptionElement = item.find_element(by=By.CSS_SELECTOR, value=\".metadata-snippet-text\")\n",
    "            description = descriptionElement.text\n",
    "        except NoSuchElementException:\n",
    "            # NoSuchElementException 발생 시, description을 None 또는 원하는 기본값으로 설정\n",
    "            description = \"\"\n",
    "\n",
    "        url =titleElement.get_attribute(\"href\")\n",
    "\n",
    "        #데이터 파싱\n",
    "        hits_value = \"기본값\"\n",
    "\n",
    "        try:\n",
    "            hits_value = hits.split(\"조회수\")[1].replace(\"회\", \"\").strip()\n",
    "        except IndexError:\n",
    "            # IndexError 발생 시 hits_value를 None으로 설정\n",
    "            hits_value = \"라이브 중, 조회수 없음\"\n",
    "\n",
    "        i\n",
    "        data_list = {\n",
    "                \"title\": title,\n",
    "                \"hits\": hits_value,\n",
    "                \"creator\" :creator,\n",
    "                \"decsription\" : description,\n",
    "                \"url\": url,\n",
    "            }\n",
    "        content.append(data_list)\n",
    "\n",
    "    preResult = {\n",
    "        \"searchValue\": searchList[i],\n",
    "        \"content\": content\n",
    "    }\n",
    "    print(preResult)\n",
    "    tubeCrawlingResult.append(preResult)\n",
    "\n",
    "print(tubeCrawlingResult)\n",
    "df = pd.DataFrame(tubeCrawlingResult)\n",
    "print(df)\n",
    "\n"
   ]
  },
  {
   "cell_type": "code",
   "execution_count": 85,
   "metadata": {},
   "outputs": [
    {
     "name": "stdout",
     "output_type": "stream",
     "text": [
      "  searchValue                                            content\n",
      "0       아이폰15  [{'title': '아이폰 15 사러 일본으로, 홍콩으로…\"늦게 나오는데 가격도\"...\n",
      "1         손흥민  [{'title': '\"오 마이 캡틴~\" \"따뜻한사람\" '주장의 품격' 손흥민이 히...\n",
      "2       react  [{'title': 'Teens Try Not To Sing Or Dance Cha...\n"
     ]
    }
   ],
   "source": [
    "df = pd.DataFrame(tubeCrawlingResult)\n",
    "print(df)\n",
    "\n",
    "\n",
    "df.to_excel(\"youtubeCrawling.xlsx\")\n",
    "try:\n",
    "    df.to_csv(\"youtubeCrawling.csv\", encoding=\"\")\n",
    "\n",
    "except UnicodeEncodeError as e:\n",
    "    print(\"UnicodeEncodeError occurred. Skipped.\")\n"
   ]
  },
  {
   "cell_type": "code",
   "execution_count": 78,
   "metadata": {},
   "outputs": [],
   "source": [
    "import json\n",
    "\n",
    "with open(\"youtubeCrawling.json\", \"w\", encoding=\"utf-8\") as f:\n",
    "    json.dump(tubeCrawlingResult, f, indent=4, ensure_ascii=False)"
   ]
  }
 ],
 "metadata": {
  "kernelspec": {
   "display_name": "base",
   "language": "python",
   "name": "python3"
  },
  "language_info": {
   "codemirror_mode": {
    "name": "ipython",
    "version": 3
   },
   "file_extension": ".py",
   "mimetype": "text/x-python",
   "name": "python",
   "nbconvert_exporter": "python",
   "pygments_lexer": "ipython3",
   "version": "3.11.4"
  },
  "orig_nbformat": 4
 },
 "nbformat": 4,
 "nbformat_minor": 2
}
