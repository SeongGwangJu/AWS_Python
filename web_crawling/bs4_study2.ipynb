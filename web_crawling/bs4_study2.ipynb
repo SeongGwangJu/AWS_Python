{
 "cells": [
  {
   "cell_type": "code",
   "execution_count": 1,
   "metadata": {},
   "outputs": [],
   "source": [
    "# 웹크롤링, 웹 스크래핑\n",
    "#크롤링 -> 전체를 다 가져오는 것\n",
    "#스크래핑 -> 필요한 부분만 가져오는 것\n",
    "#정적 크롤링, 동적 크롤링\n",
    "#정적크롤링 -> beautifulsoup\n",
    "#동적크롤링 -> beautifulsoup, selenium\n",
    "#사용할 웹 브라우저 -> 크롬\n",
    "\n",
    "\n"
   ]
  },
  {
   "cell_type": "code",
   "execution_count": null,
   "metadata": {},
   "outputs": [],
   "source": [
    "import requests\n",
    "from bs4 import BeautifulSoup as bs\n",
    "url = \"https://pages.coupang.com/p/96636\"\n",
    "\n",
    "\n",
    "html = bs(requests.get(url)) #자동으로 html코드형식으로 가져옴\n",
    "findInfoSectionTitle = html.find(\"span\", class=\"info_section__title\")\n",
    "findInfoSectionTitle = html.find_all(\"span\", class=\"info_section__title\")\n",
    "for title in findInfoSectionTitle:\n",
    "    print(title.text)\n"
   ]
  }
 ],
 "metadata": {
  "kernelspec": {
   "display_name": "base",
   "language": "python",
   "name": "python3"
  },
  "language_info": {
   "codemirror_mode": {
    "name": "ipython",
    "version": 3
   },
   "file_extension": ".py",
   "mimetype": "text/x-python",
   "name": "python",
   "nbconvert_exporter": "python",
   "pygments_lexer": "ipython3",
   "version": "3.11.4"
  },
  "orig_nbformat": 4
 },
 "nbformat": 4,
 "nbformat_minor": 2
}
