{
 "cells": [
  {
   "cell_type": "code",
   "execution_count": 8,
   "metadata": {},
   "outputs": [
    {
     "name": "stdout",
     "output_type": "stream",
     "text": [
      "[{'title': '경기도_도서 관련 업체 현황', 'provider_organization': '경기도', 'update_date': '2019-09-16', 'hits': 2269, 'request_count': 174, 'keyword': '지역서점,책방,도서대여점'}, {'title': '제주특별자치도_제주공공도서관 도서검색 정보', 'provider_organization': '제주특별자치도', 'update_date': '2019-12-19', 'hits': 3414, 'request_count': 215, 'keyword': '도서관,공공도서관,프로그램'}, {'title': '한국체육산업개발주식회사_올림픽공원 도서정보', 'provider_organization': '한국체육산업개발주식회사', 'update_date': '2023-09-18', 'hits': 1985, 'request_count': 161, 'keyword': '올림픽공원,도서관,지샘터'}, {'title': '부산광역시_도서신착자료', 'provider_organization': '부산광역시', 'update_date': '2023-04-03', 'hits': 1456, 'request_count': 69, 'keyword': '도서,저자명,도서관명'}, {'title': '부산광역시_도서인기검색어', 'provider_organization': '부산광역시', 'update_date': '2021-09-23', 'hits': 1934, 'request_count': 61, 'keyword': '도서,순위,종류'}, {'title': '국토교통부_도서정보서비스', 'provider_organization': '국토교통부', 'update_date': '2022-03-08', 'hits': 5792, 'request_count': 102, 'keyword': '용도지역,용도지구,토지이용'}, {'title': '독립기념관_소장도서목차', 'provider_organization': '독립기념관', 'update_date': '2021-12-08', 'hits': 1175, 'request_count': 85, 'keyword': '독립운동,역사,소장도서'}, {'title': '문화체육관광부_국립어린이청소년도서관_사서추천도서', 'provider_organization': '문화체육관광부', 'update_date': '2022-08-24', 'hits': 1026, 'request_count': 127, 'keyword': '도서관,국립어린이청소년도서관,추천도서'}, {'title': '인천광역시_독도등도서지역의생태계보전/특정도서', 'provider_organization': '인천광역시', 'update_date': '2022-09-02', 'hits': 1462, 'request_count': 64, 'keyword': '독도,도서지역,생태계보전'}, {'title': '예금보험공사 발간도서 목록', 'provider_organization': '예금보험공사', 'update_date': '2021-02-19', 'hits': 3832, 'request_count': 34, 'keyword': '예금보험,KDIC,도서'}, {'title': '울산광역시_전자도서 정보', 'provider_organization': '울산광역시', 'update_date': '2022-11-11', 'hits': 1299, 'request_count': 29, 'keyword': '전자책,도서,자료실'}, {'title': '독립기념관_소장도서색인', 'provider_organization': '독립기념관', 'update_date': '2022-08-22', 'hits': 1043, 'request_count': 54, 'keyword': '독립운동,역사,소장도서'}, {'title': '농림축산식품부 농식품공무원교육원_소장 도서목록_API', 'provider_organization': '농림축산식품부 농식품공무원교육원', 'update_date': '2022-06-21', 'hits': 678, 'request_count': 27, 'keyword': '소장도서,도서목록,도서'}, {'title': '경상남도_농업관련 도서', 'provider_organization': '경상남도', 'update_date': '2020-08-03', 'hits': 1964, 'request_count': 21, 'keyword': '경상남도,농업,도서'}, {'title': '울산광역시_도서_정보', 'provider_organization': '울산광역시', 'update_date': '2022-02-07', 'hits': 1220, 'request_count': 18, 'keyword': '전자책,도서,자료실'}, {'title': '부산광역시_주간인기대출도서', 'provider_organization': '부산광역시', 'update_date': '2021-09-23', 'hits': 1141, 'request_count': 47, 'keyword': '인기도서,대출횟수,저자명'}, {'title': '국토교통부_토지융합정보', 'provider_organization': '국토교통부', 'update_date': '2022-03-07', 'hits': 7107, 'request_count': 341, 'keyword': '토지,도서,토지이용계획'}, {'title': '문화체육관광부_국립세종도서관 사서추천도서', 'provider_organization': '문화체육관광부', 'update_date': '2022-08-30', 'hits': 518, 'request_count': 56, 'keyword': '국립세종도서관,사서추천도서,도서관'}, {'title': '전라남도_전남 도립 도서관 도서 현황', 'provider_organization': '전라남도', 'update_date': '2021-06-21', 'hits': 2184, 'request_count': 44, 'keyword': '전라남도,도립도서관,전남도립도서관'}, {'title': '경기도 용인시_도서관 신간도서 정보 조회 서비스', 'provider_organization': '경기도 용인시', 'update_date': '2021-12-24', 'hits': 1144, 'request_count': 52, 'keyword': '용인시,도서관,신간도서'}, {'title': '충청남도 공주시_시립도서관 도서목록 DB', 'provider_organization': '충청남도 공주시', 'update_date': '2019-10-02', 'hits': 2323, 'request_count': 45, 'keyword': '공주시립도서관,도서관,도서목록'}, {'title': '농촌진흥청_수출농업 발간도서', 'provider_organization': '농촌진흥청', 'update_date': '2022-06-21', 'hits': 1496, 'request_count': 35, 'keyword': '농촌,수출농업,발간도서'}, {'title': '제주특별자치도 서귀포시_서귀포시 행정자료실 도서목록', 'provider_organization': '제주특별자치도 서귀포시', 'update_date': '2022-07-29', 'hits': 1471, 'request_count': 46, 'keyword': '행정자료실,서귀포시행정자료,서귀포시행정'}, {'title': '한국전력공사_도서발전소 운영원가 정보 서비스', 'provider_organization': '한국전력공사', 'update_date': '2022-09-30', 'hits': 2323, 'request_count': 45, 'keyword': '도서발전소,종합원가계산,운영원가'}, {'title': '해양수산부_특정도서', 'provider_organization': '해양수산부', 'update_date': '2022-03-07', 'hits': 1384, 'request_count': 10, 'keyword': '특정,도서,특정도서'}, {'title': '제주특별자치도_제주공공도서관 신간도서목록 정보', 'provider_organization': '제주특별자치도', 'update_date': '2019-12-19', 'hits': 2864, 'request_count': 42, 'keyword': '도서관,공공도서관,프로그램'}, {'title': '한국전력공사_도서발전설비 관리현황 서비스', 'provider_organization': '한국전력공사', 'update_date': '2022-09-30', 'hits': 2339, 'request_count': 38, 'keyword': '도서발전소,종합원가계산서,발전설비'}, {'title': '문화체육관광부_국립민속박물관_발간도서', 'provider_organization': '문화체육관광부', 'update_date': '2022-08-24', 'hits': 396, 'request_count': 11, 'keyword': '문화체육도서,국립민속박물관,도서'}, {'title': '통일부_북한교과서 및 어린이도서 조회 서비스', 'provider_organization': '통일부', 'update_date': '2022-10-11', 'hits': 1416, 'request_count': 42, 'keyword': '북한,교과서,어린이'}, {'title': '대전광역시 서구_가수원도서관도서현황', 'provider_organization': '대전광역시 서구', 'update_date': '2022-11-18', 'hits': 534, 'request_count': 35, 'keyword': '도서명,출판사,저자'}]\n"
     ]
    }
   ],
   "source": [
    "from selenium import webdriver\n",
    "from selenium.webdriver.common.keys import Keys\n",
    "from webdriver_manager.chrome import ChromeDriverManager\n",
    "from selenium.webdriver.common.by import By\n",
    "import time\n",
    "\n",
    "driver = webdriver.Chrome(executable_path=\"chromedriver\")\n",
    "driver.get(\"https://www.data.go.kr/index.do\")\n",
    "time.sleep(0.5)\n",
    "\n",
    "# 입력\n",
    "searchValue = input(\"어떤 공공데이터를 찾으시나요?\")\n",
    "pageRange = input(\"수집하실 페이지 범위를 입력하세요(예: 1~4):\")\n",
    "firstPage = pageRange.split(\"~\")[0]\n",
    "lastPage = pageRange.split(\"~\")[1]\n",
    "\n",
    "searchInput = driver.find_element(by=By.CSS_SELECTOR, value=\"#keyword.input-text\")\n",
    "searchInput.send_keys(\"도서\") #수정필\n",
    "searchInput.send_keys(Keys.RETURN)\n",
    "time.sleep(1)\n",
    "\n",
    "#\"파일데이터\" 클릭\n",
    "driver.find_element(by=By.XPATH, value='//*[@id=\"dTypeAPI\"]/a').click()\n",
    "time.sleep(1)\n",
    "\n",
    "data_info = []\n",
    "for page in range(int(firstPage), (int(lastPage) +1)):\n",
    "    #이동\n",
    "    driver.find_element(by=By.XPATH, value=f'//*[@id=\"apiDataList\"]/nav/a[{page+1}]').click()\n",
    "    time.sleep(1)\n",
    "\n",
    "    for i in range(1,11):\n",
    "        title_element = driver.find_element(by=By.XPATH, value=f'//*[@id=\"apiDataList\"]/div[2]/ul/li[{i}]/dl/dt/a/span[2]')\n",
    "        title = title_element.text\n",
    "        if title ==\"JSON\":\n",
    "            title_element = driver.find_element(by=By.XPATH, value=f'//*[@id=\"apiDataList\"]/div[2]/ul/li[{i}]/dl/dt/a/span[3]')\n",
    "            title = title_element.text\n",
    "\n",
    "        provider_organization_element = driver.find_element(by=By.XPATH, value=f'//*[@id=\"apiDataList\"]/div[2]/ul/li[{i}]/div[1]/p[1]/span[2]')\n",
    "        provider_organization = provider_organization_element.text\n",
    "\n",
    "        update_date_element = driver.find_element(by=By.XPATH, value=f'//*[@id=\"apiDataList\"]/div[2]/ul/li[{i}]/div[1]/p[2]/span[2]')\n",
    "        update_date = update_date_element.text\n",
    "\n",
    "        hits_element = driver.find_element(by=By.XPATH, value=f'//*[@id=\"apiDataList\"]/div[2]/ul/li[{i}]/div[1]/p[3]/span[2]')\n",
    "        hits = hits_element.text\n",
    "\n",
    "        request_count_element = driver.find_element(by=By.XPATH, value=f'//*[@id=\"apiDataList\"]/div[2]/ul/li[{i}]/div[1]/p[4]/span[2]')\n",
    "        request_count= request_count_element.text\n",
    "\n",
    "        keyword_element = driver.find_element(by=By.XPATH, value=f'//*[@id=\"apiDataList\"]/div[2]/ul/li[{i}]/div[1]/p[5]')\n",
    "        pre_keyword = keyword_element.text.split(\" \")[1:]\n",
    "        keyword=''.join(pre_keyword)\n",
    "\n",
    "        data_object = {\n",
    "            \"title\": title,\n",
    "            \"provider_organization\": provider_organization,\n",
    "            \"update_date\": update_date,\n",
    "            \"hits\": int(hits),\n",
    "            \"request_count\": int(request_count),\n",
    "            \"keyword\": keyword\n",
    "        }\n",
    "        data_info.append(data_object)\n",
    "print(data_info)\n",
    "\n",
    "import json\n",
    "\n",
    "with open(\"data_info.json\", \"w\", encoding=\"utf-8\") as f:\n",
    "    json.dump(data_info, f, indent=4, ensure_ascii=False)\n"
   ]
  },
  {
   "cell_type": "code",
   "execution_count": null,
   "metadata": {},
   "outputs": [],
   "source": []
  }
 ],
 "metadata": {
  "kernelspec": {
   "display_name": "base",
   "language": "python",
   "name": "python3"
  },
  "language_info": {
   "codemirror_mode": {
    "name": "ipython",
    "version": 3
   },
   "file_extension": ".py",
   "mimetype": "text/x-python",
   "name": "python",
   "nbconvert_exporter": "python",
   "pygments_lexer": "ipython3",
   "version": "3.11.4"
  },
  "orig_nbformat": 4
 },
 "nbformat": 4,
 "nbformat_minor": 2
}
