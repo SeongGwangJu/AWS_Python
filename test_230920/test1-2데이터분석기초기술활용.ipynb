{
 "cells": [
  {
   "cell_type": "code",
   "execution_count": null,
   "metadata": {},
   "outputs": [],
   "source": [
    "#문제2\n",
    "\n",
    "dataList = []\n",
    "index = 0\n",
    "repetitionCount = 5\n",
    "sum = 0\n",
    "\n",
    "def inputData():\n",
    "    data = int(input(\"종가 입력:\"))\n",
    "    dataList.append(data)\n",
    "    return\n",
    "\n",
    "\n",
    "while(index !=repetitionCount):\n",
    "    inputData()\n",
    "    index = index +1\n",
    "\n",
    "for i in range(repetitionCount):\n",
    "    sum = sum + dataList[i]\n",
    "\n",
    "average = (sum / 5)\n",
    "print(\"[ 종가 평균 ]      =>      \" + str(average))"
   ]
  },
  {
   "cell_type": "code",
   "execution_count": null,
   "metadata": {},
   "outputs": [],
   "source": [
    "# [ 종가 평균 ]      =>      10520.0"
   ]
  }
 ],
 "metadata": {
  "kernelspec": {
   "display_name": "base",
   "language": "python",
   "name": "python3"
  },
  "language_info": {
   "codemirror_mode": {
    "name": "ipython",
    "version": 3
   },
   "file_extension": ".py",
   "mimetype": "text/x-python",
   "name": "python",
   "nbconvert_exporter": "python",
   "pygments_lexer": "ipython3",
   "version": "3.11.4"
  },
  "orig_nbformat": 4
 },
 "nbformat": 4,
 "nbformat_minor": 2
}
