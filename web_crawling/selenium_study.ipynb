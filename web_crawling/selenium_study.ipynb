{
 "cells": [
  {
   "cell_type": "code",
   "execution_count": 23,
   "metadata": {},
   "outputs": [
    {
     "name": "stdout",
     "output_type": "stream",
     "text": [
      "[<selenium.webdriver.remote.webelement.WebElement (session=\"31518f387cce6114faee0b37e15ed7e7\", element=\"D81BCD6927A8892E97B3EE7F585F7F3B_element_108\")>, <selenium.webdriver.remote.webelement.WebElement (session=\"31518f387cce6114faee0b37e15ed7e7\", element=\"D81BCD6927A8892E97B3EE7F585F7F3B_element_109\")>, <selenium.webdriver.remote.webelement.WebElement (session=\"31518f387cce6114faee0b37e15ed7e7\", element=\"D81BCD6927A8892E97B3EE7F585F7F3B_element_110\")>, <selenium.webdriver.remote.webelement.WebElement (session=\"31518f387cce6114faee0b37e15ed7e7\", element=\"D81BCD6927A8892E97B3EE7F585F7F3B_element_111\")>, <selenium.webdriver.remote.webelement.WebElement (session=\"31518f387cce6114faee0b37e15ed7e7\", element=\"D81BCD6927A8892E97B3EE7F585F7F3B_element_112\")>, <selenium.webdriver.remote.webelement.WebElement (session=\"31518f387cce6114faee0b37e15ed7e7\", element=\"D81BCD6927A8892E97B3EE7F585F7F3B_element_113\")>, <selenium.webdriver.remote.webelement.WebElement (session=\"31518f387cce6114faee0b37e15ed7e7\", element=\"D81BCD6927A8892E97B3EE7F585F7F3B_element_114\")>, <selenium.webdriver.remote.webelement.WebElement (session=\"31518f387cce6114faee0b37e15ed7e7\", element=\"D81BCD6927A8892E97B3EE7F585F7F3B_element_115\")>, <selenium.webdriver.remote.webelement.WebElement (session=\"31518f387cce6114faee0b37e15ed7e7\", element=\"D81BCD6927A8892E97B3EE7F585F7F3B_element_116\")>, <selenium.webdriver.remote.webelement.WebElement (session=\"31518f387cce6114faee0b37e15ed7e7\", element=\"D81BCD6927A8892E97B3EE7F585F7F3B_element_117\")>]\n",
      "삼성전자, 12년 연속 '동반성장 최우수 기업' 선정\n",
      "삼성전자·SK텔레콤·네이버 등 3년 연속 '동반성장' 최우수 등급\n",
      "삼성전자·SK텔레콤 등 동반성장 '최우수' 기업 41개…역대 최다\n",
      "삼성전자, 국내 최초 12년 연속 동반성장지수 '최우수'\n",
      "삼성전자, '더 프레임'으로 메트로폴리탄 미술관 명작 전시\n",
      "삼성·LG전자가 '집'도 만든다…1억짜리 신개념 주택 봤더니\n",
      "ARM “상장 후에도 라이선스 가격 변동 없다”… 리스크 털어낸 삼성전자\n",
      "삼성전자, 12년 연속 동반성장 평가 '최우수'…포스코·LG이노텍도 선정\n",
      "삼성전자 '더 프레임'으로 美 메트로폴리탄 명작 만난다\n",
      "삼성전자, 숨고르기 정도가 너무 심한거 아닌가…‘7만전자’ 위태[투자360]\n",
      "[<selenium.webdriver.remote.webelement.WebElement (session=\"31518f387cce6114faee0b37e15ed7e7\", element=\"CC0DB76AAA769731522AD54101CDFF92_element_136\")>, <selenium.webdriver.remote.webelement.WebElement (session=\"31518f387cce6114faee0b37e15ed7e7\", element=\"CC0DB76AAA769731522AD54101CDFF92_element_137\")>, <selenium.webdriver.remote.webelement.WebElement (session=\"31518f387cce6114faee0b37e15ed7e7\", element=\"CC0DB76AAA769731522AD54101CDFF92_element_138\")>, <selenium.webdriver.remote.webelement.WebElement (session=\"31518f387cce6114faee0b37e15ed7e7\", element=\"CC0DB76AAA769731522AD54101CDFF92_element_139\")>, <selenium.webdriver.remote.webelement.WebElement (session=\"31518f387cce6114faee0b37e15ed7e7\", element=\"CC0DB76AAA769731522AD54101CDFF92_element_140\")>, <selenium.webdriver.remote.webelement.WebElement (session=\"31518f387cce6114faee0b37e15ed7e7\", element=\"CC0DB76AAA769731522AD54101CDFF92_element_141\")>, <selenium.webdriver.remote.webelement.WebElement (session=\"31518f387cce6114faee0b37e15ed7e7\", element=\"CC0DB76AAA769731522AD54101CDFF92_element_142\")>, <selenium.webdriver.remote.webelement.WebElement (session=\"31518f387cce6114faee0b37e15ed7e7\", element=\"CC0DB76AAA769731522AD54101CDFF92_element_143\")>, <selenium.webdriver.remote.webelement.WebElement (session=\"31518f387cce6114faee0b37e15ed7e7\", element=\"CC0DB76AAA769731522AD54101CDFF92_element_144\")>, <selenium.webdriver.remote.webelement.WebElement (session=\"31518f387cce6114faee0b37e15ed7e7\", element=\"CC0DB76AAA769731522AD54101CDFF92_element_145\")>]\n",
      "[<selenium.webdriver.remote.webelement.WebElement (session=\"31518f387cce6114faee0b37e15ed7e7\", element=\"5926CA47CB858E50EDF1842977B6EEA1_element_164\")>, <selenium.webdriver.remote.webelement.WebElement (session=\"31518f387cce6114faee0b37e15ed7e7\", element=\"5926CA47CB858E50EDF1842977B6EEA1_element_165\")>, <selenium.webdriver.remote.webelement.WebElement (session=\"31518f387cce6114faee0b37e15ed7e7\", element=\"5926CA47CB858E50EDF1842977B6EEA1_element_166\")>, <selenium.webdriver.remote.webelement.WebElement (session=\"31518f387cce6114faee0b37e15ed7e7\", element=\"5926CA47CB858E50EDF1842977B6EEA1_element_167\")>, <selenium.webdriver.remote.webelement.WebElement (session=\"31518f387cce6114faee0b37e15ed7e7\", element=\"5926CA47CB858E50EDF1842977B6EEA1_element_168\")>, <selenium.webdriver.remote.webelement.WebElement (session=\"31518f387cce6114faee0b37e15ed7e7\", element=\"5926CA47CB858E50EDF1842977B6EEA1_element_169\")>, <selenium.webdriver.remote.webelement.WebElement (session=\"31518f387cce6114faee0b37e15ed7e7\", element=\"5926CA47CB858E50EDF1842977B6EEA1_element_170\")>, <selenium.webdriver.remote.webelement.WebElement (session=\"31518f387cce6114faee0b37e15ed7e7\", element=\"5926CA47CB858E50EDF1842977B6EEA1_element_171\")>, <selenium.webdriver.remote.webelement.WebElement (session=\"31518f387cce6114faee0b37e15ed7e7\", element=\"5926CA47CB858E50EDF1842977B6EEA1_element_172\")>, <selenium.webdriver.remote.webelement.WebElement (session=\"31518f387cce6114faee0b37e15ed7e7\", element=\"5926CA47CB858E50EDF1842977B6EEA1_element_173\")>]\n",
      "[<selenium.webdriver.remote.webelement.WebElement (session=\"31518f387cce6114faee0b37e15ed7e7\", element=\"E77F3CE2A988CB4A4294BEA74199EA65_element_191\")>, <selenium.webdriver.remote.webelement.WebElement (session=\"31518f387cce6114faee0b37e15ed7e7\", element=\"E77F3CE2A988CB4A4294BEA74199EA65_element_192\")>, <selenium.webdriver.remote.webelement.WebElement (session=\"31518f387cce6114faee0b37e15ed7e7\", element=\"E77F3CE2A988CB4A4294BEA74199EA65_element_193\")>, <selenium.webdriver.remote.webelement.WebElement (session=\"31518f387cce6114faee0b37e15ed7e7\", element=\"E77F3CE2A988CB4A4294BEA74199EA65_element_194\")>, <selenium.webdriver.remote.webelement.WebElement (session=\"31518f387cce6114faee0b37e15ed7e7\", element=\"E77F3CE2A988CB4A4294BEA74199EA65_element_195\")>, <selenium.webdriver.remote.webelement.WebElement (session=\"31518f387cce6114faee0b37e15ed7e7\", element=\"E77F3CE2A988CB4A4294BEA74199EA65_element_196\")>, <selenium.webdriver.remote.webelement.WebElement (session=\"31518f387cce6114faee0b37e15ed7e7\", element=\"E77F3CE2A988CB4A4294BEA74199EA65_element_197\")>, <selenium.webdriver.remote.webelement.WebElement (session=\"31518f387cce6114faee0b37e15ed7e7\", element=\"E77F3CE2A988CB4A4294BEA74199EA65_element_198\")>, <selenium.webdriver.remote.webelement.WebElement (session=\"31518f387cce6114faee0b37e15ed7e7\", element=\"E77F3CE2A988CB4A4294BEA74199EA65_element_199\")>, <selenium.webdriver.remote.webelement.WebElement (session=\"31518f387cce6114faee0b37e15ed7e7\", element=\"E77F3CE2A988CB4A4294BEA74199EA65_element_200\")>]\n",
      "증권가 \"종목장 끝났다…삼성전자 살 때\"\n",
      "코스피, 외국인 매도에 장 초반 약세…삼성전자 1%↓(종합)\n",
      "삼성전자 ‘더 프레임’ 美 메트로폴리탄 미술관 명작 담았다\n",
      "삼성전자 경계현 사장, 대학 강연 통해 '도전하는 회사' 약속\n",
      "삼성전자 등 41개사 동반성장지수 ‘최우수’ 기업 선정\n",
      "상생에 진심인 삼성전자…12년 연속 '동반성장 최우수 기업' 선정\n",
      "삼성전자, 국내 기업 최초 12년 연속 '동반성장 최우수 기업' 선정\n",
      "삼성전자, 버추얼 프로덕션 전용 '더 월' 유럽 상륙\n",
      "삼성전자, 12년 연속 동반성장 '최우수' 기업…국내 최초\n",
      "동반성장 최우수 기업 41개 '역대 최다'…삼성전자·SK텔레콤·기아 등\n",
      "크롤링을 종료합니다.\n"
     ]
    }
   ],
   "source": [
    "# 크롬드라이버\n",
    "from selenium import webdriver\n",
    "from selenium.webdriver.common.keys import Keys\n",
    "from webdriver_manager.chrome import ChromeDriverManager\n",
    "from selenium.webdriver.common.by import By\n",
    "import time\n",
    "\n",
    "driver = webdriver.Chrome(executable_path=\"chromedriver\")\n",
    "# driver = webdriver.Chrome(ChromeDriverManager().install())\n",
    "# driver = webdriver.Chrome()\n",
    "\n",
    "driver.get(\"https://naver.com\")\n",
    "\n",
    "#브라우저 뜨기 전에 코드가 실행되면 안되니까\n",
    "time.sleep(0.5)\n",
    "\n",
    "searchValue = input(\"검색어 입력: \")\n",
    "# searchInput = driver.find_element(by=\"id\", value=\"query\")\n",
    "searchInput = driver.find_element(by=By.CSS_SELECTOR, value=\"#query\")\n",
    "\n",
    "#받아온값을 searchInput에 보내고 Enter(Return)\n",
    "searchInput.send_keys(searchValue)\n",
    "searchInput.send_keys(Keys.RETURN)\n",
    "\n",
    "time.sleep(0.5)\n",
    "\n",
    "driver.find_element(by=By.XPATH, value='//*[@id=\"lnb\"]/div[1]/div/div[1]/div/div[2]/div[2]/a').click()\n",
    "time.sleep(0.5)\n",
    "\n",
    "driver.find_element(by=By.XPATH, value='//*[@id=\"lnb\"]/div[1]/div/div[1]/div/div[1]/div[7]/a').click()\n",
    "time.sleep(1)\n",
    "newsTitles = driver.find_elements(by=By.CSS_SELECTOR, value=\".news_tit\")\n",
    "for title in newsTitles:\n",
    "    print(title.text)\n",
    "\n",
    "#2페이지 ~ 5페이지에서도 타이틀 긁어옴\n",
    "for i in range(2,5):\n",
    "    driver.find_element(by=By.XPATH, value=f'//*[@id=\"main_pack\"]/div[2]/div/div/a[{i}]').click()\n",
    "    time.sleep(1)\n",
    "    newsTitles = driver.find_elements(by=By.CSS_SELECTOR, value=\".news_tit\")\n",
    "for title in newsTitles:\n",
    "    print(title.text)\n",
    "\n",
    "print(\"크롤링을 종료합니다.\")"
   ]
  },
  {
   "cell_type": "markdown",
   "metadata": {},
   "source": []
  }
 ],
 "metadata": {
  "kernelspec": {
   "display_name": "base",
   "language": "python",
   "name": "python3"
  },
  "language_info": {
   "codemirror_mode": {
    "name": "ipython",
    "version": 3
   },
   "file_extension": ".py",
   "mimetype": "text/x-python",
   "name": "python",
   "nbconvert_exporter": "python",
   "pygments_lexer": "ipython3",
   "version": "3.11.4"
  },
  "orig_nbformat": 4
 },
 "nbformat": 4,
 "nbformat_minor": 2
}
