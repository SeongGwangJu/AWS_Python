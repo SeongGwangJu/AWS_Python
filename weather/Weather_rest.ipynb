{
 "cells": [
  {
   "cell_type": "code",
   "execution_count": 1,
   "metadata": {},
   "outputs": [
    {
     "name": "stdout",
     "output_type": "stream",
     "text": [
      "b'{\"response\":{\"header\":{\"resultCode\":\"00\",\"resultMsg\":\"NORMAL_SERVICE\"},\"body\":{\"dataType\":\"JSON\",\"items\":{\"item\":[{\"regId\":\"11G00000\",\"rnSt3Am\":30,\"rnSt3Pm\":30,\"rnSt4Am\":30,\"rnSt4Pm\":20,\"rnSt5Am\":40,\"rnSt5Pm\":40,\"rnSt6Am\":40,\"rnSt6Pm\":40,\"rnSt7Am\":40,\"rnSt7Pm\":20,\"rnSt8\":20,\"rnSt9\":20,\"rnSt10\":10,\"wf3Am\":\"\\xea\\xb5\\xac\\xeb\\xa6\\x84\\xeb\\xa7\\x8e\\xec\\x9d\\x8c\",\"wf3Pm\":\"\\xea\\xb5\\xac\\xeb\\xa6\\x84\\xeb\\xa7\\x8e\\xec\\x9d\\x8c\",\"wf4Am\":\"\\xea\\xb5\\xac\\xeb\\xa6\\x84\\xeb\\xa7\\x8e\\xec\\x9d\\x8c\",\"wf4Pm\":\"\\xea\\xb5\\xac\\xeb\\xa6\\x84\\xeb\\xa7\\x8e\\xec\\x9d\\x8c\",\"wf5Am\":\"\\xea\\xb5\\xac\\xeb\\xa6\\x84\\xeb\\xa7\\x8e\\xec\\x9d\\x8c\",\"wf5Pm\":\"\\xea\\xb5\\xac\\xeb\\xa6\\x84\\xeb\\xa7\\x8e\\xec\\x9d\\x8c\",\"wf6Am\":\"\\xea\\xb5\\xac\\xeb\\xa6\\x84\\xeb\\xa7\\x8e\\xec\\x9d\\x8c\",\"wf6Pm\":\"\\xea\\xb5\\xac\\xeb\\xa6\\x84\\xeb\\xa7\\x8e\\xec\\x9d\\x8c\",\"wf7Am\":\"\\xea\\xb5\\xac\\xeb\\xa6\\x84\\xeb\\xa7\\x8e\\xec\\x9d\\x8c\",\"wf7Pm\":\"\\xeb\\xa7\\x91\\xec\\x9d\\x8c\",\"wf8\":\"\\xeb\\xa7\\x91\\xec\\x9d\\x8c\",\"wf9\":\"\\xeb\\xa7\\x91\\xec\\x9d\\x8c\",\"wf10\":\"\\xeb\\xa7\\x91\\xec\\x9d\\x8c\"}]},\"pageNo\":1,\"numOfRows\":10,\"totalCount\":1}}}'\n",
      "{'response': {'header': {'resultCode': '00', 'resultMsg': 'NORMAL_SERVICE'}, 'body': {'dataType': 'JSON', 'items': {'item': [{'regId': '11G00000', 'rnSt3Am': 30, 'rnSt3Pm': 30, 'rnSt4Am': 30, 'rnSt4Pm': 20, 'rnSt5Am': 40, 'rnSt5Pm': 40, 'rnSt6Am': 40, 'rnSt6Pm': 40, 'rnSt7Am': 40, 'rnSt7Pm': 20, 'rnSt8': 20, 'rnSt9': 20, 'rnSt10': 10, 'wf3Am': '구름많음', 'wf3Pm': '구름많음', 'wf4Am': '구름많음', 'wf4Pm': '구름많음', 'wf5Am': '구름많음', 'wf5Pm': '구름많음', 'wf6Am': '구름많음', 'wf6Pm': '구름많음', 'wf7Am': '구름많음', 'wf7Pm': '맑음', 'wf8': '맑음', 'wf9': '맑음', 'wf10': '맑음'}]}, 'pageNo': 1, 'numOfRows': 10, 'totalCount': 1}}}\n"
     ]
    }
   ],
   "source": [
    "import requests\n",
    "\n",
    "url = 'http://apis.data.go.kr/1360000/MidFcstInfoService/getMidLandFcst'\n",
    "params = {\n",
    "    'serviceKey': '79R8W6sm5f8rcLaDI7OC+UkS84Jd/FYjVP1iR7c78mwH5thEn5aH6vicAUwSKCNKJsAMb8jzLgfnWLGTkAwbcw==',\n",
    "    'pageNo': '1',\n",
    "    'numOfRows': '10',\n",
    "    'dataType': 'JSON',\n",
    "    'regId': '11G00000',\n",
    "    'tmFc' : '202309200600'\n",
    "    # 'tmFc' : '202309191800'\n",
    "}\n",
    "\n",
    "response = requests.get(url, params=params)\n",
    "response.encoding = 'utf-8'\n",
    "print(response.content)\n",
    "responseDict = eval(response.content)\n",
    "print(responseDict)\n"
   ]
  }
 ],
 "metadata": {
  "kernelspec": {
   "display_name": "base",
   "language": "python",
   "name": "python3"
  },
  "language_info": {
   "codemirror_mode": {
    "name": "ipython",
    "version": 3
   },
   "file_extension": ".py",
   "mimetype": "text/x-python",
   "name": "python",
   "nbconvert_exporter": "python",
   "pygments_lexer": "ipython3",
   "version": "3.11.4"
  },
  "orig_nbformat": 4
 },
 "nbformat": 4,
 "nbformat_minor": 2
}
