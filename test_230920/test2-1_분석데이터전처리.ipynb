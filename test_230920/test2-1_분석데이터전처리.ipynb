{
 "cells": [
  {
   "cell_type": "code",
   "execution_count": 2,
   "metadata": {},
   "outputs": [
    {
     "name": "stdout",
     "output_type": "stream",
     "text": [
      "\n",
      "[ 출력결과1 ]\n",
      "[[6 6 6 6 6]\n",
      " [6 6 6 6 6]\n",
      " [6 6 6 6 6]\n",
      " [6 6 6 6 6]\n",
      " [6 6 6 6 6]]\n",
      "\n",
      "[ 출력결과2 ]\n",
      "[[36  6  6  6 36]\n",
      " [ 6 36  6 36  6]\n",
      " [ 6  6 36  6  6]\n",
      " [ 6 36  6 36  6]\n",
      " [36  6  6  6 36]]\n"
     ]
    }
   ],
   "source": [
    "import numpy as np\n",
    "\n",
    "size = 5\n",
    "np_Array1 = np.full((size,size), 1)\n",
    "np_Array2 = np.full((size,size), size)\n",
    "\n",
    "output_array1 = np_Array1 + np_Array2\n",
    "output_array2 = np.full((size,size), 0)\n",
    "\n",
    "for i in range(size):\n",
    "    for j in range(size):\n",
    "        if i == j or (i+j) == (size-1):\n",
    "            output_array2[i][j] = output_array1[i][j] ** 2\n",
    "        else:\n",
    "            output_array2[i][j] = output_array1[i][j]\n",
    "\n",
    "print(\"\\n[ 출력결과1 ]\")\n",
    "print(output_array1)\n",
    "\n",
    "print(\"\\n[ 출력결과2 ]\")\n",
    "print(output_array2)\n"
   ]
  },
  {
   "cell_type": "code",
   "execution_count": null,
   "metadata": {},
   "outputs": [],
   "source": [
    "\n",
    "[ 출력결과1 ]\n",
    "[[6 6 6 6 6]\n",
    " [6 6 6 6 6]\n",
    " [6 6 6 6 6]\n",
    " [6 6 6 6 6]\n",
    " [6 6 6 6 6]]\n",
    "\n",
    "[ 출력결과2 ]\n",
    "[[36  6  6  6 36]\n",
    " [ 6 36  6 36  6]\n",
    " [ 6  6 36  6  6]\n",
    " [ 6 36  6 36  6]\n",
    " [36  6  6  6 36]]\n"
   ]
  }
 ],
 "metadata": {
  "kernelspec": {
   "display_name": "base",
   "language": "python",
   "name": "python3"
  },
  "language_info": {
   "codemirror_mode": {
    "name": "ipython",
    "version": 3
   },
   "file_extension": ".py",
   "mimetype": "text/x-python",
   "name": "python",
   "nbconvert_exporter": "python",
   "pygments_lexer": "ipython3",
   "version": "3.11.4"
  },
  "orig_nbformat": 4
 },
 "nbformat": 4,
 "nbformat_minor": 2
}
