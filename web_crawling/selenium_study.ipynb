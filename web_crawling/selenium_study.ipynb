{
 "cells": [
  {
   "cell_type": "code",
   "execution_count": 4,
   "metadata": {},
   "outputs": [
    {
     "name": "stdout",
     "output_type": "stream",
     "text": [
      "삼성전자, 12년 연속 '동반성장 최우수 기업' 선정\n",
      "메모리 불황 끝이 보인다… 삼성전자·SK하이닉스 3분기 실적 개선 기대\n",
      "삼성전자·SK텔레콤·네이버 등 3년 연속 '동반성장' 최우수 등급\n",
      "유진투자 \"삼성전자 3분기 영업이익 1조6천억원 예상\"\n",
      "[기업] 삼성전자·SK텔레콤 등 41개 기업 동반성장 '최우수'\n",
      "삼성전자·SKT·LG전자 등 동반성장지수 '최우수 등급'\n",
      "삼성전자, 국내 최초 12년 연속 동반성장지수 '최우수'\n",
      "니오, 첫 자체 '7nm' 칩 삼성전자서 생산\n",
      "삼성전자-SKT 등 28곳 ‘동반성장 명예기업’\n",
      "‘RE100 선언 1년’ 삼성전자, 성적표는 ‘글쎄…’\n",
      "https://search.pstatic.net/common/?src=https%3A%2F%2Fimgnews.pstatic.net%2Fimage%2Forigin%2F5151%2F2023%2F09%2F19%2F520697.jpg&type=ff264_180&expire=2&refresh=true\n",
      "https://search.pstatic.net/common/?src=https%3A%2F%2Fimgnews.pstatic.net%2Fimage%2Forigin%2F5380%2F2023%2F09%2F19%2F782164.jpg&type=ff264_180&expire=2&refresh=true\n",
      "https://search.pstatic.net/common/?src=https%3A%2F%2Fimgnews.pstatic.net%2Fimage%2Forigin%2F005%2F2023%2F09%2F18%2F1638844.jpg&type=ff264_180&expire=2&refresh=true\n",
      "https://search.pstatic.net/common/?src=https%3A%2F%2Fimgnews.pstatic.net%2Fimage%2Forigin%2F5003%2F2023%2F09%2F19%2F1882240.jpg&type=ff264_180&expire=2&refresh=true\n",
      "https://search.pstatic.net/common/?src=https%3A%2F%2Fimgnews.pstatic.net%2Fimage%2Forigin%2F031%2F2023%2F09%2F18%2F773848.jpg&type=ff264_180&expire=2&refresh=true\n",
      "https://search.pstatic.net/common/?src=https%3A%2F%2Fimgnews.pstatic.net%2Fimage%2Forigin%2F277%2F2023%2F09%2F19%2F5316124.jpg&type=ff264_180&expire=2&refresh=true\n",
      "https://search.pstatic.net/common/?src=https%3A%2F%2Fimgnews.pstatic.net%2Fimage%2Forigin%2F5503%2F2023%2F09%2F19%2F126572.jpg&type=ofullfill264_180_gray&expire=2&refresh=true\n",
      "https://search.pstatic.net/common/?src=https%3A%2F%2Fimgnews.pstatic.net%2Fimage%2Forigin%2F5174%2F2023%2F09%2F19%2F379761.jpg&type=ofullfill264_180_gray&expire=2&refresh=true\n",
      "data:image/gif;base64,R0lGODlhAQABAIAAAAAAAP///yH5BAEAAAAALAAAAAABAAEAAAIBRAA7\n",
      "data:image/gif;base64,R0lGODlhAQABAIAAAAAAAP///yH5BAEAAAAALAAAAAABAAEAAAIBRAA7\n",
      "크롤링을 종료합니다.\n"
     ]
    }
   ],
   "source": [
    "# 크롬드라이버\n",
    "from selenium import webdriver\n",
    "from selenium.webdriver.common.keys import Keys\n",
    "from webdriver_manager.chrome import ChromeDriverManager\n",
    "from selenium.webdriver.common.by import By\n",
    "import time\n",
    "\n",
    "driver = webdriver.Chrome(executable_path=\"chromedriver\")\n",
    "# driver = webdriver.Chrome(ChromeDriverManager().install())\n",
    "# driver = webdriver.Chrome()\n",
    "\n",
    "driver.get(\"https://naver.com\")\n",
    "\n",
    "#브라우저 뜨기 전에 코드가 실행되면 안되니까\n",
    "time.sleep(0.5)\n",
    "\n",
    "searchValue = input(\"검색어 입력: \")\n",
    "# searchInput = driver.find_element(by=\"id\", value=\"query\")\n",
    "searchInput = driver.find_element(by=By.CSS_SELECTOR, value=\"#query\")\n",
    "\n",
    "#받아온값을 searchInput에 보내고 Enter(Return)\n",
    "searchInput.send_keys(searchValue)\n",
    "searchInput.send_keys(Keys.RETURN)\n",
    "\n",
    "time.sleep(0.5)\n",
    "\n",
    "driver.find_element(by=By.XPATH, value='//*[@id=\"lnb\"]/div[1]/div/div[1]/div/div[2]/div[2]/a').click()\n",
    "time.sleep(0.5)\n",
    "\n",
    "driver.find_element(by=By.XPATH, value='//*[@id=\"lnb\"]/div[1]/div/div[1]/div/div[1]/div[7]/a').click()\n",
    "time.sleep(1)\n",
    "newsTitles = driver.find_elements(by=By.CSS_SELECTOR, value=\".news_tit\")\n",
    "for title in newsTitles:\n",
    "    print(title.text)\n",
    "\n",
    "#2페이지 ~ 5페이지에서도 타이틀 긁어옴\n",
    "for i in range(2,6):\n",
    "    driver.find_element(by=By.XPATH, value=f'//*[@id=\"main_pack\"]/div[2]/div/div/a[{i}]').click()\n",
    "    time.sleep(1)\n",
    "#     newsTitles = driver.find_elements(by=By.CSS_SELECTOR, value=\".news_tit\")\n",
    "# for title in newsTitles:\n",
    "#     # print(title.text)\n",
    "#     print(title.get_attribute(name=\"href\"))\n",
    "    newsImages = driver.find_elements(by=By.CSS_SELECTOR, value=\".dsc_thumb .thumb\") #.dsc_thumb클래스 안의 thumb클래스\n",
    "for img in newsImages:\n",
    "    print(img.get_attribute(name=\"src\"))\n",
    "print(\"크롤링을 종료합니다.\")"
   ]
  },
  {
   "cell_type": "markdown",
   "metadata": {},
   "source": [
    "<!--\n",
    "### 예시\n",
    "webToonList = [\n",
    "    dayOfTheWeek: \"월\", #리스트\n",
    "    webtoon: [\n",
    "        {\n",
    "            title: \"참교육\",\n",
    "            author: \"채용택 / 한가람\",\n",
    "            grade: 9.87,\n",
    "            postImageL \"https://~.jpg\n",
    "        },\n",
    "        {\n",
    "            title: \"퀘스트 지상주의\",\n",
    "            author: \"박태준 만화회사\",\n",
    "            grade: 9.75,\n",
    "            postImageL \"https://~.jpg\n",
    "        },\n",
    "    ]\n",
    "] *n 반복 --> #딕셔너리\n"
   ]
  },
  {
   "cell_type": "code",
   "execution_count": null,
   "metadata": {},
   "outputs": [],
   "source": []
  },
  {
   "cell_type": "code",
   "execution_count": null,
   "metadata": {},
   "outputs": [],
   "source": []
  }
 ],
 "metadata": {
  "kernelspec": {
   "display_name": "base",
   "language": "python",
   "name": "python3"
  },
  "language_info": {
   "codemirror_mode": {
    "name": "ipython",
    "version": 3
   },
   "file_extension": ".py",
   "mimetype": "text/x-python",
   "name": "python",
   "nbconvert_exporter": "python",
   "pygments_lexer": "ipython3",
   "version": "3.11.4"
  },
  "orig_nbformat": 4
 },
 "nbformat": 4,
 "nbformat_minor": 2
}
